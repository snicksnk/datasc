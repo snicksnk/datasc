{
 "cells": [
  {
   "cell_type": "markdown",
   "metadata": {},
   "source": [
    "# Матрицы"
   ]
  },
  {
   "cell_type": "markdown",
   "metadata": {},
   "source": [
    "Прямоугольная таблица чисел."
   ]
  },
  {
   "cell_type": "markdown",
   "metadata": {},
   "source": [
    "Обозначение $x_{m,n}$, где m - число строк, n - число столбцов.\n",
    "$x_{2,3}$:\n",
    "\\begin{pmatrix}\n",
    "1 & 2 & 3\\\\\n",
    "a & b & c\n",
    "\\end{pmatrix}"
   ]
  },
  {
   "cell_type": "markdown",
   "metadata": {},
   "source": [
    "### Предназначение:"
   ]
  },
  {
   "cell_type": "markdown",
   "metadata": {},
   "source": [
    "1) Набор векторов\n",
    "\n"
   ]
  },
  {
   "cell_type": "markdown",
   "metadata": {},
   "source": [
    "2) Преобразование векторов и систем координат (линейное отображение)\n"
   ]
  },
  {
   "cell_type": "markdown",
   "metadata": {},
   "source": [
    "3) Соотношение между векторами \"биленейная форма\""
   ]
  },
  {
   "cell_type": "markdown",
   "metadata": {},
   "source": [
    "### Python"
   ]
  },
  {
   "cell_type": "code",
   "execution_count": 4,
   "metadata": {},
   "outputs": [
    {
     "data": {
      "text/plain": [
       "array([[1, 2, 3],\n",
       "       [4, 5, 6]])"
      ]
     },
     "execution_count": 4,
     "metadata": {},
     "output_type": "execute_result"
    }
   ],
   "source": [
    "import numpy as np\n",
    "# a_{2,3}\n",
    "a = np.array([[1, 2, 3], [4, 5, 6]])\n",
    "a"
   ]
  },
  {
   "cell_type": "code",
   "execution_count": 7,
   "metadata": {},
   "outputs": [
    {
     "data": {
      "text/plain": [
       "array([[0., 0.],\n",
       "       [0., 0.]])"
      ]
     },
     "execution_count": 7,
     "metadata": {},
     "output_type": "execute_result"
    }
   ],
   "source": [
    "# Нулевая матрица\n",
    "b = np.zeros((2, 2))\n",
    "b"
   ]
  },
  {
   "cell_type": "code",
   "execution_count": 11,
   "metadata": {},
   "outputs": [
    {
     "data": {
      "text/plain": [
       "array([[1., 0., 0.],\n",
       "       [0., 1., 0.],\n",
       "       [0., 0., 1.]])"
      ]
     },
     "execution_count": 11,
     "metadata": {},
     "output_type": "execute_result"
    }
   ],
   "source": [
    "# 1 на диоганали\n",
    "c = np.eye(3)\n",
    "c"
   ]
  },
  {
   "cell_type": "markdown",
   "metadata": {},
   "source": [
    "## Матричные операции"
   ]
  },
  {
   "cell_type": "markdown",
   "metadata": {},
   "source": [
    "## Сложение и вычитание"
   ]
  },
  {
   "cell_type": "code",
   "execution_count": null,
   "metadata": {},
   "outputs": [],
   "source": [
    "A + B ="
   ]
  },
  {
   "cell_type": "markdown",
   "metadata": {},
   "source": [
    "\\begin{pmatrix}\n",
    "a_{1, 1} + b_{1, 1} & ... a_{m, n} + b_{m,n}\\\\\n",
    "a_{m, 1} + b_{m, 1} & ... a_{m, n} + b_{m, n}\n",
    "\\end{pmatrix}"
   ]
  },
  {
   "cell_type": "markdown",
   "metadata": {},
   "source": [
    "##### Требование: Одинаковая размерность"
   ]
  },
  {
   "cell_type": "markdown",
   "metadata": {},
   "source": [
    "##### Принцип: каждый элемент складывается с каждым"
   ]
  },
  {
   "cell_type": "markdown",
   "metadata": {},
   "source": [
    "### Умножение матриц"
   ]
  },
  {
   "cell_type": "markdown",
   "metadata": {},
   "source": [
    "2 матрицы размерностью $m * n$ и $n * k$ можно перемножить по правилу \"строка на столбец\":\n"
   ]
  },
  {
   "cell_type": "markdown",
   "metadata": {},
   "source": [
    "$ A \\cdot B =$ "
   ]
  },
  {
   "cell_type": "markdown",
   "metadata": {},
   "source": [
    "\\begin{pmatrix}\n",
    "(a_m, b_k)\n",
    "\\end{pmatrix}"
   ]
  },
  {
   "cell_type": "markdown",
   "metadata": {},
   "source": [
    "Где $(a_i, b_j)$ - *скалярное произведенеи векторов*"
   ]
  },
  {
   "cell_type": "markdown",
   "metadata": {},
   "source": [
    "<img src=\"https://i.ytimg.com/vi/llwuoLzPbdE/hqdefault.jpg\" />"
   ]
  },
  {
   "cell_type": "markdown",
   "metadata": {},
   "source": [
    "<img src=\"https://yotx.ru/Images/matrix-multiply-by-matrix-3.gif\" />"
   ]
  },
  {
   "cell_type": "code",
   "execution_count": 67,
   "metadata": {},
   "outputs": [
    {
     "name": "stdout",
     "output_type": "stream",
     "text": [
      "[[ 57  69]\n",
      " [ 80 101]]\n",
      "[]\n",
      "string 0 [1, 2, 3]\n",
      "col [1, 10, 12]\n",
      "scalarSum 0\n",
      "col [8, 11, 13]\n",
      "scalarSum 0\n",
      "string 1 [2, 3, 4]\n",
      "col [1, 10, 12]\n",
      "scalarSum 1\n",
      "col [8, 11, 13]\n",
      "scalarSum 1\n"
     ]
    },
    {
     "data": {
      "text/plain": [
       "[[57, 69], [80, 101]]"
      ]
     },
     "execution_count": 67,
     "metadata": {},
     "output_type": "execute_result"
    }
   ],
   "source": [
    "import numpy as np\n",
    "A = [[ 1, 2 ,3 ], [ 2, 3 , 4]]\n",
    "B = [[1, 8], [10, 11], [12, 13]]\n",
    "\n",
    "\n",
    "print('Ожидаемый резуальтат', np.array(A) @ np.array(B))\n",
    "\n",
    "# Функция, которое находит скалярное произведение векторов\n",
    "def scalarSumm(a, b):\n",
    "    sum = 0\n",
    "    for n in range(len(a)):\n",
    "        sum = sum + (a[n] * b[n])\n",
    "    return sum\n",
    "\n",
    "# Функция произведения матриц\n",
    "def matrixSum(A, B):\n",
    "    result = []\n",
    "    \n",
    "    # Итерируем по строкам\n",
    "    for stringN in range(len(A)):\n",
    "        # Вектор из строки\n",
    "        Avec = A[stringN]\n",
    "        print(\"string\", stringN, Avec)\n",
    "        \n",
    "        # Строка результирующей матрицы\n",
    "        resultString = []\n",
    "        # Собираем столбец, итерируя по высоте столбца\n",
    "        for colB in range(len(B[1])):\n",
    "            # Вектор соответствующий столбцу матрицы\n",
    "            Bvec = []\n",
    "            #Итерируем по строкам матрицы B получаея по одному элементу, вытаская по одному элементу, соответсвующему стобцу\n",
    "            for stringB in range(len(B)):\n",
    "                Bvec.append(B[stringB][colB])\n",
    "            print(\"col\", Bvec)\n",
    "            \n",
    "            # Находим скалярное произведения строки и столбца\n",
    "            sum = scalarSumm(Avec, Bvec)\n",
    "            print(\"scalarSum\", stringN)\n",
    "            resultString.append(sum)\n",
    "        result.append(resultString)\n",
    "    return result\n",
    "\n",
    "\n",
    "matrixSum(A, B)\n",
    "\n",
    "# A = [[ 1, 2 ,3 ], [ 2, 3 , 4]]\n",
    "# B = [[1, 8], [10, 11], [12, 13]]"
   ]
  },
  {
   "cell_type": "markdown",
   "metadata": {},
   "source": [
    "#### Свойства умножения матриц"
   ]
  },
  {
   "cell_type": "markdown",
   "metadata": {},
   "source": [
    "$A \\cdot (B + C) = A \\cdot B + A \\cdot C$"
   ]
  },
  {
   "cell_type": "markdown",
   "metadata": {},
   "source": [
    "Как правило: $A \\cdot B <> B \\cdot A$"
   ]
  },
  {
   "cell_type": "markdown",
   "metadata": {},
   "source": [
    "(да же с подходящими размерностями)"
   ]
  },
  {
   "cell_type": "markdown",
   "metadata": {},
   "source": [
    "### Python"
   ]
  },
  {
   "cell_type": "code",
   "execution_count": 30,
   "metadata": {},
   "outputs": [
    {
     "data": {
      "text/plain": [
       "array([[-2,  5],\n",
       "       [-8, 17]])"
      ]
     },
     "execution_count": 30,
     "metadata": {},
     "output_type": "execute_result"
    }
   ],
   "source": [
    "a = np.array([[1, 2], [4,5]])\n",
    "b = np.array([[-2,3], [0, 1]])\n",
    "# Умножение матриц\n",
    "a @ b"
   ]
  },
  {
   "cell_type": "code",
   "execution_count": 34,
   "metadata": {},
   "outputs": [
    {
     "data": {
      "text/plain": [
       "array([[-2,  5],\n",
       "       [-8, 17]])"
      ]
     },
     "execution_count": 34,
     "metadata": {},
     "output_type": "execute_result"
    }
   ],
   "source": [
    "c = np.dot(a, b)\n",
    "# То же умножение матриц\n",
    "c"
   ]
  },
  {
   "cell_type": "markdown",
   "metadata": {},
   "source": [
    "#### Перемножение матрциы и вектора: аналогично перемножение матрицы на матрицу с 1й строкой или 1м столбцом"
   ]
  },
  {
   "cell_type": "markdown",
   "metadata": {},
   "source": [
    "### Специальные матрицы"
   ]
  },
  {
   "cell_type": "markdown",
   "metadata": {},
   "source": [
    "Единичная матрица $I_n$, размера $m\\times{n}$"
   ]
  },
  {
   "cell_type": "markdown",
   "metadata": {},
   "source": [
    "$I_n = \\begin{pmatrix}\n",
    "1 & 0 & ..0\\\\\n",
    "0 & 1 & ..0\\\\\n",
    "0 & 0 & ..1\n",
    "\\end{pmatrix}$"
   ]
  },
  {
   "cell_type": "markdown",
   "metadata": {},
   "source": [
    "##### (1цы на диагонали)"
   ]
  },
  {
   "cell_type": "markdown",
   "metadata": {},
   "source": [
    "### Свойство единичной матрицы"
   ]
  },
  {
   "cell_type": "markdown",
   "metadata": {},
   "source": [
    "Для любой матрицы A размера $N \\times K$: "
   ]
  },
  {
   "cell_type": "markdown",
   "metadata": {},
   "source": [
    "$A \\cdot I_k = A$,\n",
    "$I_n \\cdot A = A $"
   ]
  },
  {
   "cell_type": "code",
   "execution_count": 79,
   "metadata": {},
   "outputs": [
    {
     "name": "stdout",
     "output_type": "stream",
     "text": [
      "In марица\n",
      "[[1. 0.]\n",
      " [0. 1.]]\n",
      "Ik марица\n",
      "[[1. 0. 0.]\n",
      " [0. 1. 0.]\n",
      " [0. 0. 1.]]\n"
     ]
    }
   ],
   "source": [
    "A = np.array([[1, 2, 3], \n",
    "              [4, 5, 6]])\n",
    "print(\"In марица\")\n",
    "In = np.eye(2)\n",
    "print(In)\n",
    "print(\"Ik марица\")\n",
    "Ik = np.eye(3)\n",
    "print(Ik)\n"
   ]
  },
  {
   "cell_type": "code",
   "execution_count": 86,
   "metadata": {},
   "outputs": [
    {
     "data": {
      "text/plain": [
       "array([[1., 2., 3.],\n",
       "       [4., 5., 6.]])"
      ]
     },
     "execution_count": 86,
     "metadata": {},
     "output_type": "execute_result"
    }
   ],
   "source": [
    "In @ A"
   ]
  },
  {
   "cell_type": "code",
   "execution_count": 84,
   "metadata": {},
   "outputs": [
    {
     "data": {
      "text/plain": [
       "array([[1., 2., 3.],\n",
       "       [4., 5., 6.]])"
      ]
     },
     "execution_count": 84,
     "metadata": {},
     "output_type": "execute_result"
    }
   ],
   "source": [
    "A @ Ik"
   ]
  },
  {
   "cell_type": "markdown",
   "metadata": {},
   "source": [
    "### Линейное отображение"
   ]
  },
  {
   "cell_type": "markdown",
   "metadata": {},
   "source": [
    "Отображение F пространства векторов, что для любых *векторов $u$ и $v$ и *любых чисел $\\alpha_1$ и $\\alpha_2$* выполняется условие:"
   ]
  },
  {
   "cell_type": "markdown",
   "metadata": {},
   "source": [
    "$$F(\\alpha_{1} \\dot{u} + \\alpha_{2} \\dot{v}) = \\alpha_{1} \\dot F(u) + \\alpha_{2} \\dot F(v)$$"
   ]
  },
  {
   "cell_type": "markdown",
   "metadata": {},
   "source": [
    "Любое линейное отображение задается умножением на некоторую \n",
    "матрицу $A$:"
   ]
  },
  {
   "cell_type": "markdown",
   "metadata": {},
   "source": [
    "$$F(V) = A \\dot{V}$$"
   ]
  },
  {
   "cell_type": "markdown",
   "metadata": {},
   "source": [
    "Тождественное отображение задается умножением на единичную матрицу"
   ]
  },
  {
   "cell_type": "markdown",
   "metadata": {},
   "source": [
    "### Когда векторов много"
   ]
  },
  {
   "cell_type": "markdown",
   "metadata": {},
   "source": [
    "Применение линейного отображения к большому колличеству векторов:"
   ]
  },
  {
   "cell_type": "markdown",
   "metadata": {},
   "source": [
    "1) Поместить все вектора в матрицу размерностью $N \\times K$, где K - колличество векторов:"
   ]
  },
  {
   "cell_type": "markdown",
   "metadata": {},
   "source": [
    "#### Вектора располагаем по вертикали в столбцы"
   ]
  },
  {
   "cell_type": "markdown",
   "metadata": {},
   "source": [
    "$V = \\begin{pmatrix}\n",
    "\\textbf{V1,1} & .. & ..V1,k\\\\\n",
    "\\textbf{V2,1} & .. & ..V2,k\\\\\n",
    "\\textbf{Vn,1} & .. & ..Vn,k\n",
    "\\end{pmatrix}$"
   ]
  },
  {
   "cell_type": "markdown",
   "metadata": {},
   "source": [
    "Первый вектор - 1й столбец, k - вектор, K-й  столбец"
   ]
  },
  {
   "cell_type": "markdown",
   "metadata": {},
   "source": [
    "2) Умножить матрицу отображения A на матрицу V $$R = A \\cdot V$$"
   ]
  },
  {
   "cell_type": "markdown",
   "metadata": {},
   "source": [
    "3) Столбцы матрицы R есть образцы наших векторов"
   ]
  },
  {
   "cell_type": "markdown",
   "metadata": {},
   "source": [
    "## Композиция линейных отображений"
   ]
  },
  {
   "cell_type": "markdown",
   "metadata": {},
   "source": [
    "Пусть F и G - линейное отображение.\n",
    "Композиция F и G - новое линейное отображение $F \\cdot G$, получаемое как последовательное применение сначала G, потом F:"
   ]
  },
  {
   "cell_type": "markdown",
   "metadata": {},
   "source": [
    "$(F \\cdot G)(V) = F(G(V))$"
   ]
  },
  {
   "cell_type": "markdown",
   "metadata": {},
   "source": [
    "### Порядок имеет значение"
   ]
  },
  {
   "cell_type": "markdown",
   "metadata": {},
   "source": [
    "Композиции F и G и композиция G и F - разные"
   ]
  },
  {
   "cell_type": "markdown",
   "metadata": {},
   "source": [
    "Матрица композиций отображения есть матрица композиций самих отображений."
   ]
  },
  {
   "cell_type": "markdown",
   "metadata": {},
   "source": [
    "### Примеры"
   ]
  },
  {
   "cell_type": "code",
   "execution_count": 174,
   "metadata": {},
   "outputs": [
    {
     "name": "stdout",
     "output_type": "stream",
     "text": [
      "[100   0] [  0 100]\n"
     ]
    },
    {
     "data": {
      "image/png": "[encoded data removed]",
      "text/plain": [
       "<Figure size 432x288 with 1 Axes>"
      ]
     },
     "metadata": {
      "needs_background": "light"
     },
     "output_type": "display_data"
    }
   ],
   "source": [
    "import matplotlib.pyplot as plt\n",
    "A = [\n",
    "    [100, 0],\n",
    "    [0, 100],\n",
    "]\n",
    "A = np.array(A)\n",
    "\n",
    "\n",
    "def printVec(V):\n",
    "    v1 = V[:,0]\n",
    "    v2 = V[:,1]\n",
    "    print(v1, v2)\n",
    "    # plt.plot(y)\n",
    "    plt.figure()\n",
    "    plt.plot(v1[0], v1[1], 'o')\n",
    "    plt.plot(v2[0], v2[1], 'o')\n",
    "    plt.grid()\n",
    "\n",
    "    \n",
    "printVec(A)"
   ]
  },
  {
   "cell_type": "code",
   "execution_count": 184,
   "metadata": {},
   "outputs": [
    {
     "name": "stdout",
     "output_type": "stream",
     "text": [
      "[[200   0]\n",
      " [  0 100]]\n",
      "[200   0] [  0 100]\n"
     ]
    },
    {
     "data": {
      "image/png": "[encoded data removed]",
      "text/plain": [
       "<Figure size 432x288 with 1 Axes>"
      ]
     },
     "metadata": {
      "needs_background": "light"
     },
     "output_type": "display_data"
    }
   ],
   "source": [
    "C = np.array([[2, 0], [0, 1]])\n",
    "B = A @ C\n",
    "print(B)\n",
    "printVec(B)"
   ]
  },
  {
   "cell_type": "markdown",
   "metadata": {},
   "source": [
    "(нихера не понятно)"
   ]
  },
  {
   "cell_type": "markdown",
   "metadata": {},
   "source": [
    "Матрица размера $n \\times k, k> n$ задают отображение в пространстве большей размерности, если k < n - меньшей размерности"
   ]
  },
  {
   "cell_type": "markdown",
   "metadata": {},
   "source": [
    "### Обратная матрица"
   ]
  },
  {
   "cell_type": "markdown",
   "metadata": {},
   "source": [
    "Матица обратная к данной. *При перемножении на нее получается единичная матрица*"
   ]
  },
  {
   "cell_type": "markdown",
   "metadata": {},
   "source": [
    "$$A \\cdot A^{-1} = A^{-1} \\cdot A = I$$"
   ]
  },
  {
   "cell_type": "markdown",
   "metadata": {},
   "source": [
    "1) Обратная матрица существует только квадратных матриц (не для всех)\n"
   ]
  },
  {
   "cell_type": "markdown",
   "metadata": {},
   "source": [
    "2) Если обратная матрица существует, то она только одна"
   ]
  },
  {
   "cell_type": "markdown",
   "metadata": {},
   "source": [
    "Задает обратное преобразование пространства (смотри презу)"
   ]
  },
  {
   "cell_type": "markdown",
   "metadata": {},
   "source": [
    "### Вычисление обратной матрицы\n"
   ]
  },
  {
   "cell_type": "code",
   "execution_count": 195,
   "metadata": {},
   "outputs": [
    {
     "name": "stdout",
     "output_type": "stream",
     "text": [
      "[[-1.66666667  0.66666667]\n",
      " [ 1.33333333 -0.33333333]]\n",
      "[[1.00000000e+00 0.00000000e+00]\n",
      " [2.22044605e-16 1.00000000e+00]]\n",
      "[[1.00000000e+00 1.11022302e-16]\n",
      " [0.00000000e+00 1.00000000e+00]]\n"
     ]
    }
   ],
   "source": [
    "A = np.array([[1, 2], [4 ,5]])\n",
    "B = np.linalg.inv(A)\n",
    "print(B)\n",
    "print(A @ B)\n",
    "print(B @ A)"
   ]
  },
  {
   "cell_type": "code",
   "execution_count": null,
   "metadata": {},
   "outputs": [],
   "source": []
  }
 ],
 "metadata": {
  "kernelspec": {
   "display_name": "Python 3",
   "language": "python",
   "name": "python3"
  },
  "language_info": {
   "codemirror_mode": {
    "name": "ipython",
    "version": 3
   },
   "file_extension": ".py",
   "mimetype": "text/x-python",
   "name": "python",
   "nbconvert_exporter": "python",
   "pygments_lexer": "ipython3",
   "version": "3.7.6"
  }
 },
 "nbformat": 4,
 "nbformat_minor": 4
}
