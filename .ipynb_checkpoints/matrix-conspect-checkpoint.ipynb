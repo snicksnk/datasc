{
 "cells": [
  {
   "cell_type": "markdown",
   "metadata": {},
   "source": [
    "# Матрицы"
   ]
  },
  {
   "cell_type": "markdown",
   "metadata": {},
   "source": [
    "Прямоугольная таблица чисел."
   ]
  },
  {
   "cell_type": "markdown",
   "metadata": {},
   "source": [
    "Обозначение $x_{m,n}$, где m - число строк, n - число столбцов.\n",
    "$x_{2,3}$:\n",
    "\\begin{pmatrix}\n",
    "1 & 2 & 3\\\\\n",
    "a & b & c\n",
    "\\end{pmatrix}"
   ]
  },
  {
   "cell_type": "markdown",
   "metadata": {},
   "source": [
    "### Предназначение:"
   ]
  },
  {
   "cell_type": "markdown",
   "metadata": {},
   "source": [
    "1) Набор векторов\n",
    "\n"
   ]
  },
  {
   "cell_type": "markdown",
   "metadata": {},
   "source": [
    "2) Преобразование векторов и систем координат (линейное отображение)\n"
   ]
  },
  {
   "cell_type": "markdown",
   "metadata": {},
   "source": [
    "3) Соотношение между векторами \"биленейная форма\""
   ]
  },
  {
   "cell_type": "markdown",
   "metadata": {},
   "source": [
    "### Python"
   ]
  },
  {
   "cell_type": "code",
   "execution_count": 4,
   "metadata": {},
   "outputs": [
    {
     "data": {
      "text/plain": [
       "array([[1, 2, 3],\n",
       "       [4, 5, 6]])"
      ]
     },
     "execution_count": 4,
     "metadata": {},
     "output_type": "execute_result"
    }
   ],
   "source": [
    "import numpy as np\n",
    "# a_{2,3}\n",
    "a = np.array([[1, 2, 3], [4, 5, 6]])\n",
    "a"
   ]
  },
  {
   "cell_type": "code",
   "execution_count": 7,
   "metadata": {},
   "outputs": [
    {
     "data": {
      "text/plain": [
       "array([[0., 0.],\n",
       "       [0., 0.]])"
      ]
     },
     "execution_count": 7,
     "metadata": {},
     "output_type": "execute_result"
    }
   ],
   "source": [
    "# Нулевая матрица\n",
    "b = np.zeros((2, 2))\n",
    "b"
   ]
  },
  {
   "cell_type": "code",
   "execution_count": 11,
   "metadata": {},
   "outputs": [
    {
     "data": {
      "text/plain": [
       "array([[1., 0., 0.],\n",
       "       [0., 1., 0.],\n",
       "       [0., 0., 1.]])"
      ]
     },
     "execution_count": 11,
     "metadata": {},
     "output_type": "execute_result"
    }
   ],
   "source": [
    "# 1 на диоганали\n",
    "c = np.eye(3)\n",
    "c"
   ]
  },
  {
   "cell_type": "markdown",
   "metadata": {},
   "source": [
    "## Матричные операции"
   ]
  },
  {
   "cell_type": "markdown",
   "metadata": {},
   "source": [
    "## Сложение и вычитание"
   ]
  },
  {
   "cell_type": "code",
   "execution_count": null,
   "metadata": {},
   "outputs": [],
   "source": [
    "A + B ="
   ]
  },
  {
   "cell_type": "markdown",
   "metadata": {},
   "source": [
    "\\begin{pmatrix}\n",
    "a_{1, 1} + b_{1, 1} & ... a_{m, n} + b_{m,n}\\\\\n",
    "a_{m, 1} + b_{m, 1} & ... a_{m, n} + b_{m, n}\n",
    "\\end{pmatrix}"
   ]
  },
  {
   "cell_type": "markdown",
   "metadata": {},
   "source": [
    "##### Требование: Одинаковая размерность"
   ]
  },
  {
   "cell_type": "markdown",
   "metadata": {},
   "source": [
    "##### Принцип: каждый элемент складывается с каждым"
   ]
  },
  {
   "cell_type": "markdown",
   "metadata": {},
   "source": [
    "### Умножение матриц"
   ]
  },
  {
   "cell_type": "markdown",
   "metadata": {},
   "source": [
    "2 матрицы размерностью $m * n$ и $n * k$ можно перемножить по правилу \"строка на столбец\":\n"
   ]
  },
  {
   "cell_type": "markdown",
   "metadata": {},
   "source": [
    "$ A \\cdot B =$ "
   ]
  },
  {
   "cell_type": "markdown",
   "metadata": {},
   "source": [
    "\\begin{pmatrix}\n",
    "(a_m, b_k)\n",
    "\\end{pmatrix}"
   ]
  },
  {
   "cell_type": "markdown",
   "metadata": {},
   "source": [
    "Где $(a_i, b_j)$ - *скалярное произведенеи векторов*"
   ]
  },
  {
   "cell_type": "markdown",
   "metadata": {},
   "source": [
    "<img src=\"https://i.ytimg.com/vi/llwuoLzPbdE/hqdefault.jpg\" />"
   ]
  },
  {
   "cell_type": "markdown",
   "metadata": {},
   "source": [
    "<img src=\"https://yotx.ru/Images/matrix-multiply-by-matrix-3.gif\" />"
   ]
  },
  {
   "cell_type": "code",
   "execution_count": 67,
   "metadata": {},
   "outputs": [
    {
     "name": "stdout",
     "output_type": "stream",
     "text": [
      "[[ 57  69]\n",
      " [ 80 101]]\n",
      "[]\n",
      "string 0 [1, 2, 3]\n",
      "col [1, 10, 12]\n",
      "scalarSum 0\n",
      "col [8, 11, 13]\n",
      "scalarSum 0\n",
      "string 1 [2, 3, 4]\n",
      "col [1, 10, 12]\n",
      "scalarSum 1\n",
      "col [8, 11, 13]\n",
      "scalarSum 1\n"
     ]
    },
    {
     "data": {
      "text/plain": [
       "[[57, 69], [80, 101]]"
      ]
     },
     "execution_count": 67,
     "metadata": {},
     "output_type": "execute_result"
    }
   ],
   "source": [
    "import numpy as np\n",
    "A = [[ 1, 2 ,3 ], [ 2, 3 , 4]]\n",
    "B = [[1, 8], [10, 11], [12, 13]]\n",
    "\n",
    "\n",
    "print('Ожидаемый резуальтат', np.array(A) @ np.array(B))\n",
    "\n",
    "# Функция, которое находит скалярное произведение векторов\n",
    "def scalarSumm(a, b):\n",
    "    sum = 0\n",
    "    for n in range(len(a)):\n",
    "        sum = sum + (a[n] * b[n])\n",
    "    return sum\n",
    "\n",
    "# Функция произведения матриц\n",
    "def matrixSum(A, B):\n",
    "    result = []\n",
    "    \n",
    "    # Итерируем по строкам\n",
    "    for stringN in range(len(A)):\n",
    "        # Вектор из строки\n",
    "        Avec = A[stringN]\n",
    "        print(\"string\", stringN, Avec)\n",
    "        \n",
    "        # Строка результирующей матрицы\n",
    "        resultString = []\n",
    "        # Собираем столбец, итерируя по высоте столбца\n",
    "        for colB in range(len(B[1])):\n",
    "            # Вектор соответствующий столбцу матрицы\n",
    "            Bvec = []\n",
    "            #Итерируем по строкам матрицы B получаея по одному элементу, вытаская по одному элементу, соответсвующему стобцу\n",
    "            for stringB in range(len(B)):\n",
    "                Bvec.append(B[stringB][colB])\n",
    "            print(\"col\", Bvec)\n",
    "            \n",
    "            # Находим скалярное произведения строки и столбца\n",
    "            sum = scalarSumm(Avec, Bvec)\n",
    "            print(\"scalarSum\", stringN)\n",
    "            resultString.append(sum)\n",
    "        result.append(resultString)\n",
    "    return result\n",
    "\n",
    "\n",
    "matrixSum(A, B)\n",
    "\n",
    "# A = [[ 1, 2 ,3 ], [ 2, 3 , 4]]\n",
    "# B = [[1, 8], [10, 11], [12, 13]]"
   ]
  },
  {
   "cell_type": "markdown",
   "metadata": {},
   "source": [
    "#### Свойства умножения матриц"
   ]
  },
  {
   "cell_type": "markdown",
   "metadata": {},
   "source": [
    "$A \\cdot (B + C) = A \\cdot B + A \\cdot C$"
   ]
  },
  {
   "cell_type": "markdown",
   "metadata": {},
   "source": [
    "Как правило: $A \\cdot B <> B \\cdot A$"
   ]
  },
  {
   "cell_type": "markdown",
   "metadata": {},
   "source": [
    "(да же с подходящими размерностями)"
   ]
  },
  {
   "cell_type": "markdown",
   "metadata": {},
   "source": [
    "### Python"
   ]
  },
  {
   "cell_type": "code",
   "execution_count": 30,
   "metadata": {},
   "outputs": [
    {
     "data": {
      "text/plain": [
       "array([[-2,  5],\n",
       "       [-8, 17]])"
      ]
     },
     "execution_count": 30,
     "metadata": {},
     "output_type": "execute_result"
    }
   ],
   "source": [
    "a = np.array([[1, 2], [4,5]])\n",
    "b = np.array([[-2,3], [0, 1]])\n",
    "# Умножение матриц\n",
    "a @ b"
   ]
  },
  {
   "cell_type": "code",
   "execution_count": 34,
   "metadata": {},
   "outputs": [
    {
     "data": {
      "text/plain": [
       "array([[-2,  5],\n",
       "       [-8, 17]])"
      ]
     },
     "execution_count": 34,
     "metadata": {},
     "output_type": "execute_result"
    }
   ],
   "source": [
    "c = np.dot(a, b)\n",
    "# То же умножение матриц\n",
    "c"
   ]
  },
  {
   "cell_type": "markdown",
   "metadata": {},
   "source": [
    "#### Перемножение матрциы и вектора: аналогично перемножение матрицы на матрицу с 1й строкой или 1м столбцом"
   ]
  },
  {
   "cell_type": "code",
   "execution_count": null,
   "metadata": {},
   "outputs": [],
   "source": []
  }
 ],
 "metadata": {
  "kernelspec": {
   "display_name": "Python 3",
   "language": "python",
   "name": "python3"
  },
  "language_info": {
   "codemirror_mode": {
    "name": "ipython",
    "version": 3
   },
   "file_extension": ".py",
   "mimetype": "text/x-python",
   "name": "python",
   "nbconvert_exporter": "python",
   "pygments_lexer": "ipython3",
   "version": "3.7.6"
  }
 },
 "nbformat": 4,
 "nbformat_minor": 4
}
