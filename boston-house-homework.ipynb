{
 "cells": [
  {
   "cell_type": "code",
   "execution_count": null,
   "metadata": {},
   "outputs": [],
   "source": [
    "import numpy as np\n",
    "import matplotlib.pyplot as plt\n",
    "import pandas as pd\n",
    "import ast\n",
    "\n",
    "%matplotlib inline\n",
    "from sklearn.datasets import load_boston\n",
    "\n",
    "boston = load_boston()\n",
    "\n",
    "boston.keys()\n",
    "pd.DataFrame(boston.data).head()\n",
    "from numpy.linalg import matrix_rank\n",
    "\n",
    "\n",
    "q = 0\n",
    "for i in boston.data:\n",
    "    allV = []\n",
    "    q = q + 1\n",
    "    for n in boston.data:\n",
    "        allV.append(n)\n",
    "        plt.plot(q, matrix_rank(allV))\n",
    "        print(matrix_rank(allV))\n",
    "\n",
    "plt.show()\n",
    "type(boston.data)\n",
    "\n",
    "a = 2\n",
    "a\n",
    "# data1 = pd.DataFrame(data= np.c_[boston['data'], boston['target']], columns= boston['feature_names'] + ['target'])"
   ]
  },
  {
   "cell_type": "code",
   "execution_count": null,
   "metadata": {},
   "outputs": [],
   "source": [
    "# Размер вектор\n",
    "\n"
   ]
  },
  {
   "cell_type": "code",
   "execution_count": null,
   "metadata": {},
   "outputs": [],
   "source": [
    "df_1 = df[['Baujahr','Zimmer','Wohnflaeche__m²_','Preis']]\n",
    "df_1.head()"
   ]
  },
  {
   "cell_type": "code",
   "execution_count": null,
   "metadata": {},
   "outputs": [],
   "source": [
    "df_1 = df_1.dropna()\n"
   ]
  },
  {
   "cell_type": "code",
   "execution_count": null,
   "metadata": {},
   "outputs": [],
   "source": [
    "\n",
    "df_1['Zimmer'] = df_1['Zimmer'].astype(float)"
   ]
  },
  {
   "cell_type": "code",
   "execution_count": null,
   "metadata": {},
   "outputs": [],
   "source": [
    "import matplotlib as mpl\n",
    "from mpl_toolkits.mplot3d import Axes3D\n",
    "import numpy as np\n",
    "import matplotlib.pyplot as plt\n",
    "\n",
    "fig = plt.figure(figsize=(10, 10))\n",
    "ax = fig.gca(projection='3d')\n",
    "\n",
    "x = np.array(df_1['Baujahr'])\n",
    "y = np.array(df_1['Wohnflaeche__m²_'])\n",
    "z = np.array(df_1['Preis'])\n",
    "\n",
    "ax.scatter(x, y, z)\n",
    "ax.set_xlabel('Год покупки')\n",
    "ax.set_ylabel('Размер дома в кв. метрах')\n",
    "ax.set_zlabel('Цена')\n",
    "plt.show()"
   ]
  },
  {
   "cell_type": "code",
   "execution_count": null,
   "metadata": {},
   "outputs": [],
   "source": [
    "fig = plt.figure(figsize=(10, 10))\n",
    "ax = fig.gca(projection='3d')\n",
    "\n",
    "x = np.array(df_1['Baujahr'])\n",
    "y = np.array(df_1['Wohnflaeche__m²_'])\n",
    "z = np.array(df_1['Zimmer'])\n",
    "\n",
    "ax.scatter(x, y, z)\n",
    "ax.set_xlabel('Год покупки')\n",
    "ax.set_ylabel('Размер дома в кв. метрах')\n",
    "ax.set_zlabel('Количество комнат')\n",
    "plt.show()"
   ]
  },
  {
   "cell_type": "code",
   "execution_count": null,
   "metadata": {},
   "outputs": [],
   "source": [
    "\n",
    "max(z)"
   ]
  },
  {
   "cell_type": "code",
   "execution_count": null,
   "metadata": {},
   "outputs": [],
   "source": [
    "df_1 = df_1[df_1['Zimmer']<12]"
   ]
  },
  {
   "cell_type": "code",
   "execution_count": null,
   "metadata": {},
   "outputs": [],
   "source": [
    "\n",
    "max(df_1['Zimmer'])"
   ]
  },
  {
   "cell_type": "code",
   "execution_count": null,
   "metadata": {},
   "outputs": [],
   "source": []
  },
  {
   "cell_type": "code",
   "execution_count": null,
   "metadata": {},
   "outputs": [],
   "source": []
  },
  {
   "cell_type": "code",
   "execution_count": null,
   "metadata": {},
   "outputs": [],
   "source": []
  }
 ],
 "metadata": {
  "kernelspec": {
   "display_name": "Python 3",
   "language": "python",
   "name": "python3"
  },
  "language_info": {
   "codemirror_mode": {
    "name": "ipython",
    "version": 3
   },
   "file_extension": ".py",
   "mimetype": "text/x-python",
   "name": "python",
   "nbconvert_exporter": "python",
   "pygments_lexer": "ipython3",
   "version": "3.7.6"
  }
 },
 "nbformat": 4,
 "nbformat_minor": 4
}
